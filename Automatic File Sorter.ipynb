{
 "cells": [
  {
   "cell_type": "markdown",
   "id": "8a6575fe-1976-4e41-ac56-991f6e6d4187",
   "metadata": {},
   "source": [
    "# Building an Automatic File Sorter in File Explorer"
   ]
  },
  {
   "cell_type": "code",
   "execution_count": 53,
   "id": "4af579fb-e419-426a-bf4b-a25fd6489969",
   "metadata": {},
   "outputs": [],
   "source": [
    "import os, shutil"
   ]
  },
  {
   "cell_type": "code",
   "execution_count": 55,
   "id": "95231984-61aa-4581-a18c-f84944f10f31",
   "metadata": {},
   "outputs": [],
   "source": [
    "## Convert back slash to forward slash and add one on the last.\n",
    "\n",
    "path = r\"C:/Users/Niel/OneDrive/Documents/Data Analyst/Python/\""
   ]
  },
  {
   "cell_type": "code",
   "execution_count": 59,
   "id": "bf91b3c2-7890-48cf-9f5f-1c5c7aff29f4",
   "metadata": {},
   "outputs": [],
   "source": [
    " #Checks the contents of the path.\n",
    "\n",
    "file_name = os.listdir(path)"
   ]
  },
  {
   "cell_type": "code",
   "execution_count": 64,
   "id": "8609d757-5e99-41bc-a49d-9d89e0fb45e3",
   "metadata": {},
   "outputs": [],
   "source": [
    "#Checks if a folder/path exists already.\n",
    "folder_names = ['csv files', 'image files', 'text files']\n",
    "\n",
    "for loop in range(0,3):\n",
    "    if not os.path.exists(path + folder_names[loop]):\n",
    "        os.makedirs(path + folder_names[loop])\n",
    "\n",
    "for file in file_name:\n",
    "    if \".csv\" in file and not os.path.exists(path + \"csv files/\" + file):\n",
    "        shutil.move(path + file, path + \"csv files/\" + file)\n",
    "    elif \".png\" in file and not os.path.exists(path + \"image files/\" + file):\n",
    "        shutil.move(path + file, path + \"image files/\" + file)\n",
    "    elif \".txt\" in file and not os.path.exists(path + \"text files/\" + file):\n",
    "        shutil.move(path + file, path + \"text files/\" + file)"
   ]
  },
  {
   "cell_type": "code",
   "execution_count": null,
   "id": "8e8d77b9-2416-4f68-9b3f-b0c6795cfde7",
   "metadata": {},
   "outputs": [],
   "source": []
  },
  {
   "cell_type": "code",
   "execution_count": null,
   "id": "5a162400-4ee4-4099-b1fb-5635bc50e06f",
   "metadata": {},
   "outputs": [],
   "source": []
  },
  {
   "cell_type": "code",
   "execution_count": null,
   "id": "febfe4ba-ded9-4d7d-b686-8c77650f2dca",
   "metadata": {},
   "outputs": [],
   "source": []
  },
  {
   "cell_type": "code",
   "execution_count": null,
   "id": "68de4628-715c-4011-8439-b0f230c14750",
   "metadata": {},
   "outputs": [],
   "source": []
  },
  {
   "cell_type": "code",
   "execution_count": null,
   "id": "0dfad1bc-9191-478f-8779-4ad371b1fced",
   "metadata": {},
   "outputs": [],
   "source": []
  }
 ],
 "metadata": {
  "kernelspec": {
   "display_name": "Python 3 (ipykernel)",
   "language": "python",
   "name": "python3"
  },
  "language_info": {
   "codemirror_mode": {
    "name": "ipython",
    "version": 3
   },
   "file_extension": ".py",
   "mimetype": "text/x-python",
   "name": "python",
   "nbconvert_exporter": "python",
   "pygments_lexer": "ipython3",
   "version": "3.11.7"
  }
 },
 "nbformat": 4,
 "nbformat_minor": 5
}
