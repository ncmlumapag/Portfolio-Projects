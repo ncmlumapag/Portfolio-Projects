{
 "cells": [
  {
   "cell_type": "markdown",
   "id": "2a803449-ef44-4004-8a05-2ba4023bf80e",
   "metadata": {},
   "source": [
    "# Building a BMI Calculator"
   ]
  },
  {
   "cell_type": "code",
   "execution_count": null,
   "id": "8ff1fe21-813d-4d46-8749-86c1b1fffc25",
   "metadata": {},
   "outputs": [],
   "source": [
    "name = input(\"Enter your name: \")\n",
    "weight = int(input(\"Enter your weight in pounds: \"))\n",
    "height = int(input(\"Enter your height in inches: \"))\n",
    "BMI = (weight * 703) / (height * height)\n",
    "print(BMI)\n",
    "\n",
    "if BMI > 0:\n",
    "    if BMI < 18.5:\n",
    "        print(name +\", you are underweight.\")\n",
    "    elif BMI <= 24.9:\n",
    "        print(name +\", you are normal weight.\")\n",
    "    elif BMI <= 29.9:\n",
    "        print(name +\", you are overweight.\")\n",
    "    elif BMI <= 34.9:\n",
    "        print(name +\", you are obese.\")\n",
    "    elif BMI <= 39.9:\n",
    "        print(name +\", you are severly obese.\")\n",
    "    else:\n",
    "        print(name +\", you are morbidly obese.\")\n",
    "else:\n",
    "     print(\"Please enter valid input\")"
   ]
  },
  {
   "cell_type": "code",
   "execution_count": null,
   "id": "2cfcb799-a279-4de1-864f-bfaf4f6dd18f",
   "metadata": {},
   "outputs": [],
   "source": []
  },
  {
   "cell_type": "code",
   "execution_count": null,
   "id": "a48b24f1-74f2-437e-8f50-2a9ca217fe76",
   "metadata": {},
   "outputs": [],
   "source": []
  },
  {
   "cell_type": "code",
   "execution_count": null,
   "id": "b982b3d7-077d-4cf1-9a1b-cc4d94625abf",
   "metadata": {},
   "outputs": [],
   "source": []
  }
 ],
 "metadata": {
  "kernelspec": {
   "display_name": "Python 3 (ipykernel)",
   "language": "python",
   "name": "python3"
  },
  "language_info": {
   "codemirror_mode": {
    "name": "ipython",
    "version": 3
   },
   "file_extension": ".py",
   "mimetype": "text/x-python",
   "name": "python",
   "nbconvert_exporter": "python",
   "pygments_lexer": "ipython3",
   "version": "3.11.7"
  }
 },
 "nbformat": 4,
 "nbformat_minor": 5
}
